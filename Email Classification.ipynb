{
 "cells": [
  {
   "cell_type": "markdown",
   "id": "c0531b45",
   "metadata": {},
   "source": [
    "# Introdução"
   ]
  },
  {
   "cell_type": "markdown",
   "id": "da353f14",
   "metadata": {},
   "source": [
    "Spam de email ou lixo eletrônico é um tipo de spam que se utiliza o email para o envio de mensagens indesejadas, ou seja, que não foram solicitadas pelo destinatário. Além disso, eles servem como vetor para ataques tipo phishing ou mesmo golpes cada vez mais elaborados por estelionatários. Por dia, estima-se que mais de 100 bilhões de spams são enviados por e-mail.\n",
    "\n",
    "**O que desejo é que o e-mail precisa ser classificado como spam ou ham com base no conteúdo do e-mail.**"
   ]
  },
  {
   "cell_type": "markdown",
   "id": "e1c4911d",
   "metadata": {},
   "source": [
    "# Sobre os Dados"
   ]
  },
  {
   "cell_type": "markdown",
   "id": "5c9edcd6",
   "metadata": {},
   "source": [
    "Link para o database: https://spamassassin.apache.org/old/publiccorpus/"
   ]
  },
  {
   "cell_type": "markdown",
   "id": "1f14a057",
   "metadata": {},
   "source": [
    "O Spam Assassin Dataset é uma seleção de mensagens de e-mail, adequado para uso em testes de sistemas de filtragem de spam. Este conjunto específico foi obtido do Apache Public Datasets , limpo e organizado em um arquivo csv de uma maneira que possa ser conveniente de usar.\n",
    "\n",
    "O conjunto de dados é a combinação de ```spam```, ```spam_2```, ```easy_ham``` e ```easy_ham_2```."
   ]
  },
  {
   "cell_type": "markdown",
   "id": "db906b54",
   "metadata": {},
   "source": [
    "Os e-mails de spam:\n",
    "\n",
    "* O ```spam``` conteúdo continha 500 mensagens de spam, todas recebidas de fontes não spam-trap.\n",
    "* O ```spam_2``` continha 1397 mensagens de spam. Estes são mais recentes.\n",
    "\n",
    "Os e-mails não spam: \n",
    "\n",
    "* O ```easy_ham``` continha 2500 mensagens não spam. Normalmente, é muito fácil diferenciá-los de spam, pois frequentemente não contêm assinaturas \"spam\" (como HTML, etc.).\n",
    "* O ```easy_ham_2``` continha 1400 mensagens não spam. Como spam_2 uma adição mais recente ao conjunto."
   ]
  },
  {
   "cell_type": "markdown",
   "id": "5f82d0d1",
   "metadata": {},
   "source": [
    "# Análise Exploratória de Dados"
   ]
  },
  {
   "cell_type": "markdown",
   "id": "536dd45f",
   "metadata": {},
   "source": [
    "## Importação das bibliotecas básicas"
   ]
  },
  {
   "cell_type": "code",
   "execution_count": 1,
   "id": "69059557",
   "metadata": {},
   "outputs": [],
   "source": [
    "import pandas as pd\n",
    "import numpy as np\n",
    "import seaborn as sns\n",
    "import matplotlib.pyplot as plt\n",
    "import plotly.express as px\n",
    "\n",
    "import warnings\n",
    "warnings.filterwarnings('ignore')"
   ]
  },
  {
   "cell_type": "markdown",
   "id": "fdec1bdb",
   "metadata": {},
   "source": [
    "## Base de Dados"
   ]
  },
  {
   "cell_type": "code",
   "execution_count": 2,
   "id": "81dd20e1",
   "metadata": {},
   "outputs": [],
   "source": [
    "base_emails = pd.read_csv('data/spam_assassin.csv')"
   ]
  },
  {
   "cell_type": "code",
   "execution_count": 3,
   "id": "a6c309b7",
   "metadata": {},
   "outputs": [
    {
     "data": {
      "text/html": [
       "<div>\n",
       "<style scoped>\n",
       "    .dataframe tbody tr th:only-of-type {\n",
       "        vertical-align: middle;\n",
       "    }\n",
       "\n",
       "    .dataframe tbody tr th {\n",
       "        vertical-align: top;\n",
       "    }\n",
       "\n",
       "    .dataframe thead th {\n",
       "        text-align: right;\n",
       "    }\n",
       "</style>\n",
       "<table border=\"1\" class=\"dataframe\">\n",
       "  <thead>\n",
       "    <tr style=\"text-align: right;\">\n",
       "      <th></th>\n",
       "      <th>text</th>\n",
       "      <th>target</th>\n",
       "    </tr>\n",
       "  </thead>\n",
       "  <tbody>\n",
       "    <tr>\n",
       "      <th>0</th>\n",
       "      <td>From ilug-admin@linux.ie Mon Jul 29 11:28:02 2...</td>\n",
       "      <td>0</td>\n",
       "    </tr>\n",
       "    <tr>\n",
       "      <th>1</th>\n",
       "      <td>From gort44@excite.com Mon Jun 24 17:54:21 200...</td>\n",
       "      <td>1</td>\n",
       "    </tr>\n",
       "    <tr>\n",
       "      <th>2</th>\n",
       "      <td>From fork-admin@xent.com Mon Jul 29 11:39:57 2...</td>\n",
       "      <td>1</td>\n",
       "    </tr>\n",
       "    <tr>\n",
       "      <th>3</th>\n",
       "      <td>From dcm123@btamail.net.cn Mon Jun 24 17:49:23...</td>\n",
       "      <td>1</td>\n",
       "    </tr>\n",
       "    <tr>\n",
       "      <th>4</th>\n",
       "      <td>From ilug-admin@linux.ie Mon Aug 19 11:02:47 2...</td>\n",
       "      <td>0</td>\n",
       "    </tr>\n",
       "    <tr>\n",
       "      <th>...</th>\n",
       "      <td>...</td>\n",
       "      <td>...</td>\n",
       "    </tr>\n",
       "    <tr>\n",
       "      <th>5791</th>\n",
       "      <td>From ilug-admin@linux.ie Mon Jul 22 18:12:45 2...</td>\n",
       "      <td>0</td>\n",
       "    </tr>\n",
       "    <tr>\n",
       "      <th>5792</th>\n",
       "      <td>From fork-admin@xent.com Mon Oct 7 20:37:02 20...</td>\n",
       "      <td>0</td>\n",
       "    </tr>\n",
       "    <tr>\n",
       "      <th>5793</th>\n",
       "      <td>Received: from hq.pro-ns.net (localhost [127.0...</td>\n",
       "      <td>1</td>\n",
       "    </tr>\n",
       "    <tr>\n",
       "      <th>5794</th>\n",
       "      <td>From razor-users-admin@lists.sourceforge.net T...</td>\n",
       "      <td>0</td>\n",
       "    </tr>\n",
       "    <tr>\n",
       "      <th>5795</th>\n",
       "      <td>From rssfeeds@jmason.org Mon Sep 30 13:44:10 2...</td>\n",
       "      <td>0</td>\n",
       "    </tr>\n",
       "  </tbody>\n",
       "</table>\n",
       "<p>5796 rows × 2 columns</p>\n",
       "</div>"
      ],
      "text/plain": [
       "                                                   text  target\n",
       "0     From ilug-admin@linux.ie Mon Jul 29 11:28:02 2...       0\n",
       "1     From gort44@excite.com Mon Jun 24 17:54:21 200...       1\n",
       "2     From fork-admin@xent.com Mon Jul 29 11:39:57 2...       1\n",
       "3     From dcm123@btamail.net.cn Mon Jun 24 17:49:23...       1\n",
       "4     From ilug-admin@linux.ie Mon Aug 19 11:02:47 2...       0\n",
       "...                                                 ...     ...\n",
       "5791  From ilug-admin@linux.ie Mon Jul 22 18:12:45 2...       0\n",
       "5792  From fork-admin@xent.com Mon Oct 7 20:37:02 20...       0\n",
       "5793  Received: from hq.pro-ns.net (localhost [127.0...       1\n",
       "5794  From razor-users-admin@lists.sourceforge.net T...       0\n",
       "5795  From rssfeeds@jmason.org Mon Sep 30 13:44:10 2...       0\n",
       "\n",
       "[5796 rows x 2 columns]"
      ]
     },
     "execution_count": 3,
     "metadata": {},
     "output_type": "execute_result"
    }
   ],
   "source": [
    "base_emails"
   ]
  },
  {
   "cell_type": "markdown",
   "id": "582279a4",
   "metadata": {},
   "source": [
    "O conjunto de dados contém 2 colunas \"Text\" que representa o corpo do email e \"target\" que é sua classificação."
   ]
  },
  {
   "cell_type": "code",
   "execution_count": 4,
   "id": "aea29748",
   "metadata": {},
   "outputs": [
    {
     "data": {
      "text/html": [
       "<div>\n",
       "<style scoped>\n",
       "    .dataframe tbody tr th:only-of-type {\n",
       "        vertical-align: middle;\n",
       "    }\n",
       "\n",
       "    .dataframe tbody tr th {\n",
       "        vertical-align: top;\n",
       "    }\n",
       "\n",
       "    .dataframe thead th {\n",
       "        text-align: right;\n",
       "    }\n",
       "</style>\n",
       "<table border=\"1\" class=\"dataframe\">\n",
       "  <thead>\n",
       "    <tr style=\"text-align: right;\">\n",
       "      <th></th>\n",
       "      <th>target</th>\n",
       "    </tr>\n",
       "  </thead>\n",
       "  <tbody>\n",
       "    <tr>\n",
       "      <th>count</th>\n",
       "      <td>5796.000000</td>\n",
       "    </tr>\n",
       "    <tr>\n",
       "      <th>mean</th>\n",
       "      <td>0.327122</td>\n",
       "    </tr>\n",
       "    <tr>\n",
       "      <th>std</th>\n",
       "      <td>0.469203</td>\n",
       "    </tr>\n",
       "    <tr>\n",
       "      <th>min</th>\n",
       "      <td>0.000000</td>\n",
       "    </tr>\n",
       "    <tr>\n",
       "      <th>25%</th>\n",
       "      <td>0.000000</td>\n",
       "    </tr>\n",
       "    <tr>\n",
       "      <th>50%</th>\n",
       "      <td>0.000000</td>\n",
       "    </tr>\n",
       "    <tr>\n",
       "      <th>75%</th>\n",
       "      <td>1.000000</td>\n",
       "    </tr>\n",
       "    <tr>\n",
       "      <th>max</th>\n",
       "      <td>1.000000</td>\n",
       "    </tr>\n",
       "  </tbody>\n",
       "</table>\n",
       "</div>"
      ],
      "text/plain": [
       "            target\n",
       "count  5796.000000\n",
       "mean      0.327122\n",
       "std       0.469203\n",
       "min       0.000000\n",
       "25%       0.000000\n",
       "50%       0.000000\n",
       "75%       1.000000\n",
       "max       1.000000"
      ]
     },
     "execution_count": 4,
     "metadata": {},
     "output_type": "execute_result"
    }
   ],
   "source": [
    "base_emails.describe()"
   ]
  },
  {
   "cell_type": "markdown",
   "id": "db8551a7",
   "metadata": {},
   "source": [
    "Pela média, percebe-se que a base de dados é desbalanceada, ou seja, há muitos mais emails classifcados como ham do que como spam"
   ]
  },
  {
   "cell_type": "code",
   "execution_count": 5,
   "id": "67605520",
   "metadata": {},
   "outputs": [
    {
     "data": {
      "text/plain": [
       "[Text(0, 0, '3900'), Text(0, 0, '1896')]"
      ]
     },
     "execution_count": 5,
     "metadata": {},
     "output_type": "execute_result"
    },
    {
     "data": {
      "image/png": "[encoded data removed]",
      "text/plain": [
       "<Figure size 432x288 with 1 Axes>"
      ]
     },
     "metadata": {
      "needs_background": "light"
     },
     "output_type": "display_data"
    }
   ],
   "source": [
    "ax = sns.countplot(x = base_emails['target'])\n",
    "ax.bar_label(container= ax.containers[0], labels = base_emails['target'].value_counts(ascending=False).values)"
   ]
  },
  {
   "cell_type": "markdown",
   "id": "3c7d8eaf",
   "metadata": {},
   "source": [
    "### Verificando Valores Faltantes"
   ]
  },
  {
   "cell_type": "code",
   "execution_count": 6,
   "id": "57373c3c",
   "metadata": {},
   "outputs": [
    {
     "data": {
      "text/plain": [
       "text      0\n",
       "target    0\n",
       "dtype: int64"
      ]
     },
     "execution_count": 6,
     "metadata": {},
     "output_type": "execute_result"
    }
   ],
   "source": [
    "base_emails.isnull().sum()"
   ]
  },
  {
   "cell_type": "markdown",
   "id": "fd08b090",
   "metadata": {},
   "source": [
    "Perfeito, não há dados faltantes na base de dados"
   ]
  },
  {
   "cell_type": "markdown",
   "id": "3639706f",
   "metadata": {},
   "source": [
    "### Divisão entre Previsores e Classe"
   ]
  },
  {
   "cell_type": "code",
   "execution_count": 7,
   "id": "267977a6",
   "metadata": {},
   "outputs": [
    {
     "data": {
      "text/plain": [
       "\"From ilug-admin@linux.ie Mon Jul 29 11:28:02 2002 Return-Path: <ilug-admin@linux.ie> Delivered-To: yyyy@localhost.netnoteinc.com Received: from localhost (localhost [127.0.0.1]) by phobos.labs.netnoteinc.com (Postfix) with ESMTP id A13D94414F for <jm@localhost>; Mon, 29 Jul 2002 06:25:11 -0400 (EDT) Received: from phobos [127.0.0.1] by localhost with IMAP (fetchmail-5.9.0) for jm@localhost (single-drop); Mon, 29 Jul 2002 11:25:11 +0100 (IST) Received: from lugh.tuatha.org (root@lugh.tuatha.org [194.125.145.45]) by dogma.slashnull.org (8.11.6/8.11.6) with ESMTP id g6RHn7i17130 for <jm-ilug@jmason.org>; Sat, 27 Jul 2002 18:49:07 +0100 Received: from lugh (root@localhost [127.0.0.1]) by lugh.tuatha.org (8.9.3/8.9.3) with ESMTP id SAA25016; Sat, 27 Jul 2002 18:45:03 +0100 X-Authentication-Warning: lugh.tuatha.org: Host root@localhost [127.0.0.1] claimed to be lugh Received: from mail1.mail.iol.ie (mail1.mail.iol.ie [194.125.2.192]) by lugh.tuatha.org (8.9.3/8.9.3) with ESMTP id SAA24977 for <ilug@linux.ie>; Sat, 27 Jul 2002 18:44:56 +0100 Received: from dialup125-a.ts551.cwt.esat.net ([193.203.140.125] helo=Hobbiton.cod.ie) by mail1.mail.iol.ie with esmtp (Exim 3.35 #1) id 17YVVF-0001W4-00 for ilug@linux.ie; Sat, 27 Jul 2002 18:37:18 +0100 Received: (from cdaly@localhost) by Hobbiton.cod.ie (8.11.6/8.9.3) id g6RDRoO04681 for ilug@linux.ie; Sat, 27 Jul 2002 14:27:50 +0100 Date: Sat, 27 Jul 2002 14:27:49 +0100 From: Conor Daly <conor.daly@oceanfree.net> To: ILUG main list <ilug@linux.ie> Subject: Re: [ILUG] Architecture crossover trouble w RH7.2 (solved) Message-Id: <20020727142749.B4438@Hobbiton.cod.ie> Mail-Followup-To: ILUG main list <ilug@linux.ie> References: <0D443C91DCE9CD40B1C795BA222A729E018854FA@milexc01.maxtor.com> MIME-Version: 1.0 Content-Type: text/plain; charset=us-ascii Content-Disposition: inline User-Agent: Mutt/1.2.5i In-Reply-To: <0D443C91DCE9CD40B1C795BA222A729E018854FA@milexc01.maxtor.com>; from conor_wynne@maxtor.com on Fri, Jul 26, 2002 at 03:56:22PM +0100 Sender: ilug-admin@linux.ie Errors-To: ilug-admin@linux.ie X-Mailman-Version: 1.1 Precedence: bulk List-Id: Irish Linux Users' Group <ilug.linux.ie> X-Beenthere: ilug@linux.ie On Fri, Jul 26, 2002 at 03:56:22PM +0100 or so it is rumoured hereabouts, Wynne, Conor thought: > Surely it would be faster to save you conf files, install it on the box > again, copy back you confs and voila. > All you car about are the confs as the boite has no DATA right? Yeah, but then I'd have to remember _exactly_ which confs I'd modified and they're not all in /etc either... > Thats what I would do, but you sysadmins have to make life as difficult & > complicated as possible ;--) Yup... In this case, I had two issues. 1. I mirrored the disk to give to someone else to work on but the box he has available has only a P1 or P2 processor. 2. My celeron box has been crashing the backup software so I wanted to try out the backup in a different box to make sure it's hardware related. Again, it's also an interesting exercise... > Have you thought about mirroring the system drives? Might save you serious > hassle down the line. Oh, I'm doing that too. This is going to Africa so I'm aiming for as robust as possible with belt, braces and probably an all-in-one jumpsuit! I'll be mirroring the disk but that is worth only so much (eg. lightning strike taking out the disk(s) or system compromise) I'm also going for a backup to CDR with an automated restore http://www.mondorescue.org . The admin out there wouldn't be able to build the system again if the mobo got fried and the replacement was the wrong arch but an i386 compatible install will mean just dropping in the HD and booting (ish)... Conor -- Conor Daly <conor.daly@oceanfree.net> Domestic Sysadmin :-) --------------------- Faenor.cod.ie 2:32pm up 64 days, 23:49, 0 users, load average: 0.00, 0.00, 0.00 Hobbiton.cod.ie 2:19pm up 7 days, 20:56, 1 user, load average: 0.05, 0.02, 0.00 -- Irish Linux Users' Group: ilug@linux.ie http://www.linux.ie/mailman/listinfo/ilug for (un)subscription information. List maintainer: listmaster@linux.ie\""
      ]
     },
     "execution_count": 7,
     "metadata": {},
     "output_type": "execute_result"
    }
   ],
   "source": [
    "X_emails = base_emails.iloc[:, 0].values #text\n",
    "X_emails[0]"
   ]
  },
  {
   "cell_type": "code",
   "execution_count": 8,
   "id": "6437bc35",
   "metadata": {},
   "outputs": [
    {
     "data": {
      "text/plain": [
       "0"
      ]
     },
     "execution_count": 8,
     "metadata": {},
     "output_type": "execute_result"
    }
   ],
   "source": [
    "y_emails = base_emails.iloc[:, 1].values #target\n",
    "y_emails[0]"
   ]
  },
  {
   "cell_type": "markdown",
   "id": "4363a03e",
   "metadata": {},
   "source": [
    "### Divisão das bases em treinamento e teste"
   ]
  },
  {
   "cell_type": "code",
   "execution_count": 9,
   "id": "4f8f85d6",
   "metadata": {},
   "outputs": [],
   "source": [
    "from sklearn.model_selection import train_test_split"
   ]
  },
  {
   "cell_type": "code",
   "execution_count": 10,
   "id": "d389f005",
   "metadata": {},
   "outputs": [],
   "source": [
    "X_emails_treinamento, X_emails_teste, y_emails_treinamento, y_emails_teste = train_test_split(X_emails, y_emails, test_size = 0.25, random_state = 0)"
   ]
  },
  {
   "cell_type": "code",
   "execution_count": 11,
   "id": "bd7ed322",
   "metadata": {},
   "outputs": [
    {
     "name": "stdout",
     "output_type": "stream",
     "text": [
      "Base Total:  (5796, 2)\n",
      "Base de Treino:  (4347,)\n",
      "Base de Teste:  (1449,)\n"
     ]
    }
   ],
   "source": [
    "print(\"Base Total: \", np.shape(base_emails))\n",
    "print(\"Base de Treino: \", np.shape(X_emails_treinamento))\n",
    "print(\"Base de Teste: \", np.shape(X_emails_teste))"
   ]
  },
  {
   "cell_type": "markdown",
   "id": "26b266b3",
   "metadata": {},
   "source": [
    "### Limpeza nos Corpos dos Emails"
   ]
  },
  {
   "cell_type": "markdown",
   "id": "8e1df0ae",
   "metadata": {},
   "source": [
    "A primeira coisa que devemos fazer ao tratar com o corpo dos emails é retirar as palavras irrelevantes e sem sentido.\n",
    "\n",
    "Para isso, vamos utilizar a biblioteca ```nltk```, que fornece um conjunto de bibliotecas e programas para processamento simbólico e estatístico de linguagem natural para inglês. O que iremos pegar dela é uma lista de stopwords para removermos dos nossos emails.\n",
    "\n",
    "Além disso, usaremos o Vetorizador TF-IDF do scikit-learn. Este é um algoritmo muito comum para transformar texto em uma representação significativa de números que é usada para ajustar o algoritmo da máquina para previsão. \n",
    "\n",
    "$$TF-IDF = Term Frequency (TF) * Inverse Document Frequency (IDF)$$\n",
    "\n",
    "* **Term Frequency (TF)** — sklearn usa o número de vezes que um termo ‘t’ aparece em um documento.\n",
    "\n",
    "\n",
    "* **Frequência inversa do documento (IDF)** idf é uma medida de quão comum ou raro um termo é em todo os documentos. Portanto, o ponto a ser observado é que é comum a todos os documentos. Se a palavra for comum e aparecer em muitos documentos, o valor idf (normalizado) se aproximará de 0 ou se aproximará de 1 se for raro.\n",
    "\n",
    "A ideia é criar uma coluna para cada palavra e colocar a frequência que ela aparece na mensagem do email."
   ]
  },
  {
   "cell_type": "code",
   "execution_count": 12,
   "id": "1693671d",
   "metadata": {},
   "outputs": [],
   "source": [
    "import pickle\n",
    "import nltk\n",
    "from nltk.corpus import stopwords\n",
    "from sklearn.feature_extraction.text import TfidfVectorizer"
   ]
  },
  {
   "cell_type": "code",
   "execution_count": 13,
   "id": "3d4c48a0",
   "metadata": {},
   "outputs": [
    {
     "name": "stdout",
     "output_type": "stream",
     "text": [
      "['i', 'me', 'my', 'myself', 'we', 'our', 'ours', 'ourselves', 'you', \"you're\", \"you've\", \"you'll\", \"you'd\", 'your', 'yours', 'yourself', 'yourselves', 'he', 'him', 'his', 'himself', 'she', \"she's\", 'her', 'hers', 'herself', 'it', \"it's\", 'its', 'itself', 'they', 'them', 'their', 'theirs', 'themselves', 'what', 'which', 'who', 'whom', 'this', 'that', \"that'll\", 'these', 'those', 'am', 'is', 'are', 'was', 'were', 'be', 'been', 'being', 'have', 'has', 'had', 'having', 'do', 'does', 'did', 'doing', 'a', 'an', 'the', 'and', 'but', 'if', 'or', 'because', 'as', 'until', 'while', 'of', 'at', 'by', 'for', 'with', 'about', 'against', 'between', 'into', 'through', 'during', 'before', 'after', 'above', 'below', 'to', 'from', 'up', 'down', 'in', 'out', 'on', 'off', 'over', 'under', 'again', 'further', 'then', 'once', 'here', 'there', 'when', 'where', 'why', 'how', 'all', 'any', 'both', 'each', 'few', 'more', 'most', 'other', 'some', 'such', 'no', 'nor', 'not', 'only', 'own', 'same', 'so', 'than', 'too', 'very', 's', 't', 'can', 'will', 'just', 'don', \"don't\", 'should', \"should've\", 'now', 'd', 'll', 'm', 'o', 're', 've', 'y', 'ain', 'aren', \"aren't\", 'couldn', \"couldn't\", 'didn', \"didn't\", 'doesn', \"doesn't\", 'hadn', \"hadn't\", 'hasn', \"hasn't\", 'haven', \"haven't\", 'isn', \"isn't\", 'ma', 'mightn', \"mightn't\", 'mustn', \"mustn't\", 'needn', \"needn't\", 'shan', \"shan't\", 'shouldn', \"shouldn't\", 'wasn', \"wasn't\", 'weren', \"weren't\", 'won', \"won't\", 'wouldn', \"wouldn't\"]\n"
     ]
    }
   ],
   "source": [
    "stop_words = stopwords.words('english')\n",
    "print(stop_words)"
   ]
  },
  {
   "cell_type": "code",
   "execution_count": 14,
   "id": "311ed8cb",
   "metadata": {},
   "outputs": [],
   "source": [
    "tfidf = TfidfVectorizer(stop_words=stop_words, token_pattern=r'(?u)\\b([a-zA-Z]{4,20})\\b', use_idf=True)\n",
    "tfidf.fit(X_emails_treinamento)\n",
    "X_emails_treinamento = tfidf.transform(X_emails_treinamento)"
   ]
  },
  {
   "cell_type": "code",
   "execution_count": 15,
   "id": "8746ec59",
   "metadata": {},
   "outputs": [
    {
     "name": "stdout",
     "output_type": "stream",
     "text": [
      "Sparse Matrix form of test data : \n",
      "\n",
      "[[0. 0. 0. ... 0. 0. 0.]\n",
      " [0. 0. 0. ... 0. 0. 0.]\n",
      " [0. 0. 0. ... 0. 0. 0.]\n",
      " ...\n",
      " [0. 0. 0. ... 0. 0. 0.]\n",
      " [0. 0. 0. ... 0. 0. 0.]\n",
      " [0. 0. 0. ... 0. 0. 0.]] \n",
      "\n",
      "Há 40615 palavras(colunas).\n"
     ]
    }
   ],
   "source": [
    "print(\"Sparse Matrix form of test data : \\n\")\n",
    "print(X_emails_treinamento.todense(), \"\\n\")\n",
    "\n",
    "print(f\"Há {np.shape(X_emails_treinamento.todense()[0])[1]} palavras(colunas).\")"
   ]
  },
  {
   "cell_type": "markdown",
   "id": "c081c753",
   "metadata": {},
   "source": [
    "# Escolher Algoritmo de Classificação"
   ]
  },
  {
   "cell_type": "markdown",
   "id": "6a055b85",
   "metadata": {},
   "source": [
    "Vamos aplicar esses 5 algoritmos de classificação:\n",
    "    "
   ]
  },
  {
   "cell_type": "markdown",
   "id": "9e647dbc",
   "metadata": {},
   "source": [
    "* Arvore de Decisão\n",
    "* Random Forest\n",
    "* Knn\n",
    "* Regressão logística\n",
    "* SVM"
   ]
  },
  {
   "cell_type": "markdown",
   "id": "0ac84412",
   "metadata": {},
   "source": [
    "Como essa parte demora, basta rodar uma vez e saberemos o melhor algoritmo para esse projeto. E o algoritmo escolhido foi o **Random Forest**."
   ]
  },
  {
   "cell_type": "markdown",
   "id": "89edd7ed",
   "metadata": {},
   "source": [
    "## Tuning dos parâmetros com GridSearch"
   ]
  },
  {
   "cell_type": "code",
   "execution_count": 16,
   "id": "33b131b0",
   "metadata": {},
   "outputs": [],
   "source": [
    "from sklearn.model_selection import GridSearchCV"
   ]
  },
  {
   "cell_type": "markdown",
   "id": "a64bbe2d",
   "metadata": {},
   "source": [
    "O GridSearchCV é uma ferramenta usada para automatizar o processo de ajuste dos parâmetros de um algoritmo, pois ele fará de maneira sistemática diversas combinações dos parâmetros e depois de avaliá-los os armazenará num único objeto."
   ]
  },
  {
   "cell_type": "markdown",
   "id": "c2f7e049",
   "metadata": {},
   "source": [
    "Às vezes, ao rodar o código, os parâmetros escolhidos são diferentes. Isso ocorre pq os dados selecionados são sempre escolhidos ao acaso.\n",
    "De qualquer forma, os que aparecem possuem resultados semelhantes"
   ]
  },
  {
   "cell_type": "markdown",
   "id": "471f7aee",
   "metadata": {},
   "source": [
    "### Arvore de Decisão"
   ]
  },
  {
   "cell_type": "code",
   "execution_count": 17,
   "id": "5cb70288",
   "metadata": {},
   "outputs": [],
   "source": [
    "from sklearn.tree import DecisionTreeClassifier"
   ]
  },
  {
   "cell_type": "code",
   "execution_count": 18,
   "id": "49662d03",
   "metadata": {},
   "outputs": [],
   "source": [
    "parametros = {'criterion': ['gini', 'entropy'],\n",
    "              'splitter': ['best', 'random'],\n",
    "              'min_samples_split': [2, 5, 10], \n",
    "              'min_samples_leaf': [1, 5, 10]}"
   ]
  },
  {
   "cell_type": "code",
   "execution_count": 19,
   "id": "bba564ad",
   "metadata": {},
   "outputs": [
    {
     "name": "stdout",
     "output_type": "stream",
     "text": [
      "{'criterion': 'entropy', 'min_samples_leaf': 1, 'min_samples_split': 10, 'splitter': 'random'}\n",
      "0.9786064045077577\n"
     ]
    }
   ],
   "source": [
    "grid_search = GridSearchCV(estimator=DecisionTreeClassifier(), param_grid=parametros)\n",
    "grid_search.fit(X_emails_treinamento, y_emails_treinamento)\n",
    "melhores_parametros = grid_search.best_params_\n",
    "melhor_resultado = grid_search.best_score_\n",
    "print(melhores_parametros)\n",
    "print(melhor_resultado)"
   ]
  },
  {
   "cell_type": "markdown",
   "id": "aeac7557",
   "metadata": {},
   "source": [
    "### Random Forest"
   ]
  },
  {
   "cell_type": "code",
   "execution_count": 20,
   "id": "0f9b49a0",
   "metadata": {},
   "outputs": [],
   "source": [
    "from sklearn.ensemble import RandomForestClassifier"
   ]
  },
  {
   "cell_type": "code",
   "execution_count": 21,
   "id": "fb4cc2d2",
   "metadata": {},
   "outputs": [],
   "source": [
    "parametros = {'criterion': ['gini', 'entropy'],\n",
    "              'n_estimators': [10, 40, 100, 150],\n",
    "              'min_samples_split': [2, 5, 10],\n",
    "              'min_samples_leaf': [1, 5, 10]}"
   ]
  },
  {
   "cell_type": "code",
   "execution_count": 22,
   "id": "3abe3869",
   "metadata": {},
   "outputs": [
    {
     "name": "stdout",
     "output_type": "stream",
     "text": [
      "{'criterion': 'gini', 'min_samples_leaf': 1, 'min_samples_split': 2, 'n_estimators': 100}\n",
      "0.9857373384654048\n"
     ]
    }
   ],
   "source": [
    "grid_search = GridSearchCV(estimator=RandomForestClassifier(), param_grid=parametros)\n",
    "grid_search.fit(X_emails_treinamento, y_emails_treinamento)\n",
    "melhores_parametros = grid_search.best_params_\n",
    "melhor_resultado = grid_search.best_score_\n",
    "print(melhores_parametros)\n",
    "print(melhor_resultado)"
   ]
  },
  {
   "cell_type": "markdown",
   "id": "ecf36a87",
   "metadata": {},
   "source": [
    "### Knn"
   ]
  },
  {
   "cell_type": "code",
   "execution_count": 23,
   "id": "2e847965",
   "metadata": {},
   "outputs": [],
   "source": [
    "from sklearn.neighbors import KNeighborsClassifier"
   ]
  },
  {
   "cell_type": "code",
   "execution_count": 24,
   "id": "cd35ac5d",
   "metadata": {},
   "outputs": [],
   "source": [
    "parametros = {'n_neighbors': [3, 5, 10, 20],\n",
    "              'p': [1, 2]}"
   ]
  },
  {
   "cell_type": "code",
   "execution_count": 25,
   "id": "2174d0ae",
   "metadata": {},
   "outputs": [
    {
     "name": "stdout",
     "output_type": "stream",
     "text": [
      "{'n_neighbors': 3, 'p': 2}\n",
      "0.9700945729666813\n"
     ]
    }
   ],
   "source": [
    "grid_search = GridSearchCV(estimator=KNeighborsClassifier(), param_grid=parametros)\n",
    "grid_search.fit(X_emails_treinamento, y_emails_treinamento)\n",
    "melhores_parametros = grid_search.best_params_\n",
    "melhor_resultado = grid_search.best_score_\n",
    "print(melhores_parametros)\n",
    "print(melhor_resultado)"
   ]
  },
  {
   "cell_type": "markdown",
   "id": "12e405fb",
   "metadata": {},
   "source": [
    "### Regressão logística\n"
   ]
  },
  {
   "cell_type": "code",
   "execution_count": 26,
   "id": "7f576c32",
   "metadata": {},
   "outputs": [],
   "source": [
    "from sklearn.linear_model import LogisticRegression"
   ]
  },
  {
   "cell_type": "code",
   "execution_count": 27,
   "id": "097f6325",
   "metadata": {},
   "outputs": [],
   "source": [
    "parametros = {'tol': [0.0001, 0.00001, 0.000001],\n",
    "              'C': [1.0, 1.5, 2.0],\n",
    "              'solver': ['lbfgs', 'sag', 'saga']}"
   ]
  },
  {
   "cell_type": "code",
   "execution_count": 28,
   "id": "93800021",
   "metadata": {},
   "outputs": [
    {
     "name": "stdout",
     "output_type": "stream",
     "text": [
      "{'C': 2.0, 'solver': 'lbfgs', 'tol': 0.0001}\n",
      "0.9813666124360145\n"
     ]
    }
   ],
   "source": [
    "grid_search = GridSearchCV(estimator=LogisticRegression(), param_grid=parametros)\n",
    "grid_search.fit(X_emails_treinamento, y_emails_treinamento)\n",
    "melhores_parametros = grid_search.best_params_\n",
    "melhor_resultado = grid_search.best_score_\n",
    "print(melhores_parametros)\n",
    "print(melhor_resultado)"
   ]
  },
  {
   "cell_type": "markdown",
   "id": "d1ffbee6",
   "metadata": {},
   "source": [
    "### SVM"
   ]
  },
  {
   "cell_type": "code",
   "execution_count": 29,
   "id": "43f88b26",
   "metadata": {},
   "outputs": [],
   "source": [
    "from sklearn.svm import SVC"
   ]
  },
  {
   "cell_type": "code",
   "execution_count": 30,
   "id": "14133a4d",
   "metadata": {},
   "outputs": [],
   "source": [
    "parametros = {'tol': [0.001, 0.0001, 0.00001],\n",
    "              'C': [1.0, 1.5, 2.0],\n",
    "              'kernel': ['rbf', 'linear', 'poly', 'sigmoid']}"
   ]
  },
  {
   "cell_type": "code",
   "execution_count": 31,
   "id": "ef785d4e",
   "metadata": {},
   "outputs": [
    {
     "name": "stdout",
     "output_type": "stream",
     "text": [
      "{'C': 1.5, 'kernel': 'linear', 'tol': 0.001}\n",
      "0.992868272423052\n"
     ]
    }
   ],
   "source": [
    "grid_search = GridSearchCV(estimator=SVC(), param_grid=parametros)\n",
    "grid_search.fit(X_emails_treinamento, y_emails_treinamento)\n",
    "melhores_parametros = grid_search.best_params_\n",
    "melhor_resultado = grid_search.best_score_\n",
    "print(melhores_parametros)\n",
    "print(melhor_resultado)"
   ]
  },
  {
   "cell_type": "markdown",
   "id": "ca8ef6c6",
   "metadata": {},
   "source": [
    "## Validação Cruzada"
   ]
  },
  {
   "attachments": {},
   "cell_type": "markdown",
   "id": "278a9174",
   "metadata": {},
   "source": [
    "É muito comum quando estamos iniciando com Data Science e Machine Learning dividirmos nosso conjunto de dados em dados de treino e teste.\n",
    "\n",
    "Agora pensem comigo… Se eu dividir o mesmo modelo novamente com a mesma porcentagem (%) para treino e teste e depois executar o meu modelo (com os dados de treino é claro), vou ter o mesmo resultado?\n",
    "\n",
    "Os dados são divididos aleatóriamente para treino e teste. Ou seja, os dados que antes eram utilizados para teste agora podem está sendo utilizados para treino e vice-versa.\n",
    "\n",
    "![](https://miro.medium.com/max/750/1*Hn-BqSHWwA3-iwAnTamDxA.webp)\n",
    "\n",
    "o K-Fold do sklearn faz essa separação para nós, então como visto na imagem, ele pegará nossos dados de trainamento e fará várias divisões e treinamentos.\n"
   ]
  },
  {
   "cell_type": "code",
   "execution_count": 32,
   "id": "aaf0c3b7",
   "metadata": {},
   "outputs": [],
   "source": [
    "from sklearn.model_selection import cross_val_score, KFold"
   ]
  },
  {
   "cell_type": "code",
   "execution_count": 33,
   "id": "76af5a9d",
   "metadata": {},
   "outputs": [],
   "source": [
    "resultados_arvore = []\n",
    "resultados_random_forest = []\n",
    "resultados_knn = []\n",
    "resultados_logistica = []\n",
    "resultados_svm = []\n",
    "resultados_rede_neural = []\n",
    "\n",
    "for i in range(30): #Vamos realizar 30 testes(cada teste é a média de 10 testes de cada algoritmo)\n",
    "    kfold = KFold(n_splits=10, shuffle=True, random_state=i)\n",
    "\n",
    "    arvore = DecisionTreeClassifier(criterion='entropy', min_samples_leaf=5, min_samples_split=5, splitter=\"random\")\n",
    "    scores = cross_val_score(arvore, X_emails_treinamento, y_emails_treinamento, cv = kfold)\n",
    "    resultados_arvore.append(scores.mean())\n",
    "\n",
    "    random_forest = RandomForestClassifier(criterion='gini', min_samples_leaf=1, min_samples_split=2, n_estimators=100)\n",
    "    scores = cross_val_score(random_forest, X_emails_treinamento, y_emails_treinamento, cv = kfold)\n",
    "    resultados_random_forest.append(scores.mean())\n",
    "    \n",
    "    knn = KNeighborsClassifier(n_neighbors = 3, p = 2)\n",
    "    scores = cross_val_score(knn, X_emails_treinamento, y_emails_treinamento, cv = kfold)\n",
    "    resultados_knn.append(scores.mean())\n",
    "    \n",
    "    logistica = LogisticRegression(C = 2.0, solver = 'lbfgs', tol = 0.0001)\n",
    "    scores = cross_val_score(logistica, X_emails_treinamento, y_emails_treinamento, cv = kfold)\n",
    "    resultados_logistica.append(scores.mean())\n",
    "    \n",
    "    svm = SVC(kernel = 'linear', C = 1.5, tol=0.001)\n",
    "    scores = cross_val_score(svm, X_emails_treinamento, y_emails_treinamento, cv = kfold)\n",
    "    resultados_svm.append(scores.mean())"
   ]
  },
  {
   "cell_type": "code",
   "execution_count": 34,
   "id": "f13014ee",
   "metadata": {},
   "outputs": [
    {
     "data": {
      "text/html": [
       "<div>\n",
       "<style scoped>\n",
       "    .dataframe tbody tr th:only-of-type {\n",
       "        vertical-align: middle;\n",
       "    }\n",
       "\n",
       "    .dataframe tbody tr th {\n",
       "        vertical-align: top;\n",
       "    }\n",
       "\n",
       "    .dataframe thead th {\n",
       "        text-align: right;\n",
       "    }\n",
       "</style>\n",
       "<table border=\"1\" class=\"dataframe\">\n",
       "  <thead>\n",
       "    <tr style=\"text-align: right;\">\n",
       "      <th></th>\n",
       "      <th>Arvore</th>\n",
       "      <th>Random Forest</th>\n",
       "      <th>KNN</th>\n",
       "      <th>Logistica</th>\n",
       "      <th>SVM</th>\n",
       "    </tr>\n",
       "  </thead>\n",
       "  <tbody>\n",
       "    <tr>\n",
       "      <th>0</th>\n",
       "      <td>0.969867</td>\n",
       "      <td>0.985510</td>\n",
       "      <td>0.973544</td>\n",
       "      <td>0.982057</td>\n",
       "      <td>0.992412</td>\n",
       "    </tr>\n",
       "    <tr>\n",
       "      <th>1</th>\n",
       "      <td>0.970551</td>\n",
       "      <td>0.985279</td>\n",
       "      <td>0.971475</td>\n",
       "      <td>0.982290</td>\n",
       "      <td>0.993331</td>\n",
       "    </tr>\n",
       "    <tr>\n",
       "      <th>2</th>\n",
       "      <td>0.972854</td>\n",
       "      <td>0.987120</td>\n",
       "      <td>0.974693</td>\n",
       "      <td>0.982518</td>\n",
       "      <td>0.993328</td>\n",
       "    </tr>\n",
       "    <tr>\n",
       "      <th>3</th>\n",
       "      <td>0.969405</td>\n",
       "      <td>0.985738</td>\n",
       "      <td>0.973085</td>\n",
       "      <td>0.981826</td>\n",
       "      <td>0.992409</td>\n",
       "    </tr>\n",
       "    <tr>\n",
       "      <th>4</th>\n",
       "      <td>0.971018</td>\n",
       "      <td>0.986886</td>\n",
       "      <td>0.974467</td>\n",
       "      <td>0.982746</td>\n",
       "      <td>0.992638</td>\n",
       "    </tr>\n",
       "    <tr>\n",
       "      <th>5</th>\n",
       "      <td>0.971239</td>\n",
       "      <td>0.986888</td>\n",
       "      <td>0.972625</td>\n",
       "      <td>0.982517</td>\n",
       "      <td>0.992638</td>\n",
       "    </tr>\n",
       "    <tr>\n",
       "      <th>6</th>\n",
       "      <td>0.968024</td>\n",
       "      <td>0.987121</td>\n",
       "      <td>0.972627</td>\n",
       "      <td>0.982289</td>\n",
       "      <td>0.992640</td>\n",
       "    </tr>\n",
       "    <tr>\n",
       "      <th>7</th>\n",
       "      <td>0.973539</td>\n",
       "      <td>0.987116</td>\n",
       "      <td>0.973083</td>\n",
       "      <td>0.982056</td>\n",
       "      <td>0.992636</td>\n",
       "    </tr>\n",
       "    <tr>\n",
       "      <th>8</th>\n",
       "      <td>0.971932</td>\n",
       "      <td>0.986427</td>\n",
       "      <td>0.974003</td>\n",
       "      <td>0.982517</td>\n",
       "      <td>0.991717</td>\n",
       "    </tr>\n",
       "    <tr>\n",
       "      <th>9</th>\n",
       "      <td>0.970319</td>\n",
       "      <td>0.985503</td>\n",
       "      <td>0.973082</td>\n",
       "      <td>0.982515</td>\n",
       "      <td>0.992408</td>\n",
       "    </tr>\n",
       "    <tr>\n",
       "      <th>10</th>\n",
       "      <td>0.969405</td>\n",
       "      <td>0.987348</td>\n",
       "      <td>0.972401</td>\n",
       "      <td>0.982752</td>\n",
       "      <td>0.993330</td>\n",
       "    </tr>\n",
       "    <tr>\n",
       "      <th>11</th>\n",
       "      <td>0.973315</td>\n",
       "      <td>0.986429</td>\n",
       "      <td>0.973772</td>\n",
       "      <td>0.982288</td>\n",
       "      <td>0.992182</td>\n",
       "    </tr>\n",
       "    <tr>\n",
       "      <th>12</th>\n",
       "      <td>0.970783</td>\n",
       "      <td>0.986196</td>\n",
       "      <td>0.973319</td>\n",
       "      <td>0.982286</td>\n",
       "      <td>0.993098</td>\n",
       "    </tr>\n",
       "    <tr>\n",
       "      <th>13</th>\n",
       "      <td>0.969404</td>\n",
       "      <td>0.986427</td>\n",
       "      <td>0.975388</td>\n",
       "      <td>0.982977</td>\n",
       "      <td>0.992178</td>\n",
       "    </tr>\n",
       "    <tr>\n",
       "      <th>14</th>\n",
       "      <td>0.973312</td>\n",
       "      <td>0.986659</td>\n",
       "      <td>0.973776</td>\n",
       "      <td>0.982749</td>\n",
       "      <td>0.993329</td>\n",
       "    </tr>\n",
       "    <tr>\n",
       "      <th>15</th>\n",
       "      <td>0.969861</td>\n",
       "      <td>0.986654</td>\n",
       "      <td>0.973542</td>\n",
       "      <td>0.982743</td>\n",
       "      <td>0.993100</td>\n",
       "    </tr>\n",
       "    <tr>\n",
       "      <th>16</th>\n",
       "      <td>0.974007</td>\n",
       "      <td>0.986888</td>\n",
       "      <td>0.974000</td>\n",
       "      <td>0.982515</td>\n",
       "      <td>0.992407</td>\n",
       "    </tr>\n",
       "    <tr>\n",
       "      <th>17</th>\n",
       "      <td>0.971250</td>\n",
       "      <td>0.986430</td>\n",
       "      <td>0.973544</td>\n",
       "      <td>0.982289</td>\n",
       "      <td>0.993099</td>\n",
       "    </tr>\n",
       "    <tr>\n",
       "      <th>18</th>\n",
       "      <td>0.967793</td>\n",
       "      <td>0.987111</td>\n",
       "      <td>0.972395</td>\n",
       "      <td>0.982049</td>\n",
       "      <td>0.993326</td>\n",
       "    </tr>\n",
       "    <tr>\n",
       "      <th>19</th>\n",
       "      <td>0.975848</td>\n",
       "      <td>0.987347</td>\n",
       "      <td>0.973312</td>\n",
       "      <td>0.982052</td>\n",
       "      <td>0.992637</td>\n",
       "    </tr>\n",
       "    <tr>\n",
       "      <th>20</th>\n",
       "      <td>0.975157</td>\n",
       "      <td>0.985740</td>\n",
       "      <td>0.975851</td>\n",
       "      <td>0.982060</td>\n",
       "      <td>0.992641</td>\n",
       "    </tr>\n",
       "    <tr>\n",
       "      <th>21</th>\n",
       "      <td>0.965499</td>\n",
       "      <td>0.986888</td>\n",
       "      <td>0.973316</td>\n",
       "      <td>0.982058</td>\n",
       "      <td>0.992870</td>\n",
       "    </tr>\n",
       "    <tr>\n",
       "      <th>22</th>\n",
       "      <td>0.975387</td>\n",
       "      <td>0.987578</td>\n",
       "      <td>0.973546</td>\n",
       "      <td>0.981825</td>\n",
       "      <td>0.993098</td>\n",
       "    </tr>\n",
       "    <tr>\n",
       "      <th>23</th>\n",
       "      <td>0.966406</td>\n",
       "      <td>0.984815</td>\n",
       "      <td>0.974462</td>\n",
       "      <td>0.981825</td>\n",
       "      <td>0.992640</td>\n",
       "    </tr>\n",
       "    <tr>\n",
       "      <th>24</th>\n",
       "      <td>0.968022</td>\n",
       "      <td>0.985738</td>\n",
       "      <td>0.971706</td>\n",
       "      <td>0.982057</td>\n",
       "      <td>0.992638</td>\n",
       "    </tr>\n",
       "    <tr>\n",
       "      <th>25</th>\n",
       "      <td>0.975161</td>\n",
       "      <td>0.987577</td>\n",
       "      <td>0.973317</td>\n",
       "      <td>0.981825</td>\n",
       "      <td>0.993099</td>\n",
       "    </tr>\n",
       "    <tr>\n",
       "      <th>26</th>\n",
       "      <td>0.965499</td>\n",
       "      <td>0.986427</td>\n",
       "      <td>0.974233</td>\n",
       "      <td>0.982746</td>\n",
       "      <td>0.991488</td>\n",
       "    </tr>\n",
       "    <tr>\n",
       "      <th>27</th>\n",
       "      <td>0.972393</td>\n",
       "      <td>0.985966</td>\n",
       "      <td>0.973547</td>\n",
       "      <td>0.982287</td>\n",
       "      <td>0.993329</td>\n",
       "    </tr>\n",
       "    <tr>\n",
       "      <th>28</th>\n",
       "      <td>0.971707</td>\n",
       "      <td>0.986196</td>\n",
       "      <td>0.973777</td>\n",
       "      <td>0.982283</td>\n",
       "      <td>0.993097</td>\n",
       "    </tr>\n",
       "    <tr>\n",
       "      <th>29</th>\n",
       "      <td>0.972169</td>\n",
       "      <td>0.986657</td>\n",
       "      <td>0.973776</td>\n",
       "      <td>0.982517</td>\n",
       "      <td>0.993098</td>\n",
       "    </tr>\n",
       "  </tbody>\n",
       "</table>\n",
       "</div>"
      ],
      "text/plain": [
       "      Arvore  Random Forest       KNN  Logistica       SVM\n",
       "0   0.969867       0.985510  0.973544   0.982057  0.992412\n",
       "1   0.970551       0.985279  0.971475   0.982290  0.993331\n",
       "2   0.972854       0.987120  0.974693   0.982518  0.993328\n",
       "3   0.969405       0.985738  0.973085   0.981826  0.992409\n",
       "4   0.971018       0.986886  0.974467   0.982746  0.992638\n",
       "5   0.971239       0.986888  0.972625   0.982517  0.992638\n",
       "6   0.968024       0.987121  0.972627   0.982289  0.992640\n",
       "7   0.973539       0.987116  0.973083   0.982056  0.992636\n",
       "8   0.971932       0.986427  0.974003   0.982517  0.991717\n",
       "9   0.970319       0.985503  0.973082   0.982515  0.992408\n",
       "10  0.969405       0.987348  0.972401   0.982752  0.993330\n",
       "11  0.973315       0.986429  0.973772   0.982288  0.992182\n",
       "12  0.970783       0.986196  0.973319   0.982286  0.993098\n",
       "13  0.969404       0.986427  0.975388   0.982977  0.992178\n",
       "14  0.973312       0.986659  0.973776   0.982749  0.993329\n",
       "15  0.969861       0.986654  0.973542   0.982743  0.993100\n",
       "16  0.974007       0.986888  0.974000   0.982515  0.992407\n",
       "17  0.971250       0.986430  0.973544   0.982289  0.993099\n",
       "18  0.967793       0.987111  0.972395   0.982049  0.993326\n",
       "19  0.975848       0.987347  0.973312   0.982052  0.992637\n",
       "20  0.975157       0.985740  0.975851   0.982060  0.992641\n",
       "21  0.965499       0.986888  0.973316   0.982058  0.992870\n",
       "22  0.975387       0.987578  0.973546   0.981825  0.993098\n",
       "23  0.966406       0.984815  0.974462   0.981825  0.992640\n",
       "24  0.968022       0.985738  0.971706   0.982057  0.992638\n",
       "25  0.975161       0.987577  0.973317   0.981825  0.993099\n",
       "26  0.965499       0.986427  0.974233   0.982746  0.991488\n",
       "27  0.972393       0.985966  0.973547   0.982287  0.993329\n",
       "28  0.971707       0.986196  0.973777   0.982283  0.993097\n",
       "29  0.972169       0.986657  0.973776   0.982517  0.993098"
      ]
     },
     "execution_count": 34,
     "metadata": {},
     "output_type": "execute_result"
    }
   ],
   "source": [
    "resultados = pd.DataFrame({'Arvore': resultados_arvore, 'Random Forest': resultados_random_forest,\n",
    "                           'KNN': resultados_knn, 'Logistica': resultados_logistica,\n",
    "                           'SVM': resultados_svm})\n",
    "resultados"
   ]
  },
  {
   "cell_type": "markdown",
   "id": "255110f3",
   "metadata": {},
   "source": [
    "## Análise dos algorítmos "
   ]
  },
  {
   "cell_type": "code",
   "execution_count": 35,
   "id": "3a8d1709",
   "metadata": {},
   "outputs": [
    {
     "data": {
      "text/html": [
       "<div>\n",
       "<style scoped>\n",
       "    .dataframe tbody tr th:only-of-type {\n",
       "        vertical-align: middle;\n",
       "    }\n",
       "\n",
       "    .dataframe tbody tr th {\n",
       "        vertical-align: top;\n",
       "    }\n",
       "\n",
       "    .dataframe thead th {\n",
       "        text-align: right;\n",
       "    }\n",
       "</style>\n",
       "<table border=\"1\" class=\"dataframe\">\n",
       "  <thead>\n",
       "    <tr style=\"text-align: right;\">\n",
       "      <th></th>\n",
       "      <th>Arvore</th>\n",
       "      <th>Random Forest</th>\n",
       "      <th>KNN</th>\n",
       "      <th>Logistica</th>\n",
       "      <th>SVM</th>\n",
       "    </tr>\n",
       "  </thead>\n",
       "  <tbody>\n",
       "    <tr>\n",
       "      <th>count</th>\n",
       "      <td>30.000000</td>\n",
       "      <td>30.000000</td>\n",
       "      <td>30.000000</td>\n",
       "      <td>30.000000</td>\n",
       "      <td>30.000000</td>\n",
       "    </tr>\n",
       "    <tr>\n",
       "      <th>mean</th>\n",
       "      <td>0.971037</td>\n",
       "      <td>0.986489</td>\n",
       "      <td>0.973522</td>\n",
       "      <td>0.982317</td>\n",
       "      <td>0.992761</td>\n",
       "    </tr>\n",
       "    <tr>\n",
       "      <th>std</th>\n",
       "      <td>0.002830</td>\n",
       "      <td>0.000707</td>\n",
       "      <td>0.000940</td>\n",
       "      <td>0.000324</td>\n",
       "      <td>0.000482</td>\n",
       "    </tr>\n",
       "    <tr>\n",
       "      <th>min</th>\n",
       "      <td>0.965499</td>\n",
       "      <td>0.984815</td>\n",
       "      <td>0.971475</td>\n",
       "      <td>0.981825</td>\n",
       "      <td>0.991488</td>\n",
       "    </tr>\n",
       "    <tr>\n",
       "      <th>25%</th>\n",
       "      <td>0.969405</td>\n",
       "      <td>0.986024</td>\n",
       "      <td>0.973083</td>\n",
       "      <td>0.982057</td>\n",
       "      <td>0.992468</td>\n",
       "    </tr>\n",
       "    <tr>\n",
       "      <th>50%</th>\n",
       "      <td>0.971128</td>\n",
       "      <td>0.986542</td>\n",
       "      <td>0.973544</td>\n",
       "      <td>0.982289</td>\n",
       "      <td>0.992641</td>\n",
       "    </tr>\n",
       "    <tr>\n",
       "      <th>75%</th>\n",
       "      <td>0.973198</td>\n",
       "      <td>0.987055</td>\n",
       "      <td>0.973944</td>\n",
       "      <td>0.982517</td>\n",
       "      <td>0.993099</td>\n",
       "    </tr>\n",
       "    <tr>\n",
       "      <th>max</th>\n",
       "      <td>0.975848</td>\n",
       "      <td>0.987578</td>\n",
       "      <td>0.975851</td>\n",
       "      <td>0.982977</td>\n",
       "      <td>0.993331</td>\n",
       "    </tr>\n",
       "  </tbody>\n",
       "</table>\n",
       "</div>"
      ],
      "text/plain": [
       "          Arvore  Random Forest        KNN  Logistica        SVM\n",
       "count  30.000000      30.000000  30.000000  30.000000  30.000000\n",
       "mean    0.971037       0.986489   0.973522   0.982317   0.992761\n",
       "std     0.002830       0.000707   0.000940   0.000324   0.000482\n",
       "min     0.965499       0.984815   0.971475   0.981825   0.991488\n",
       "25%     0.969405       0.986024   0.973083   0.982057   0.992468\n",
       "50%     0.971128       0.986542   0.973544   0.982289   0.992641\n",
       "75%     0.973198       0.987055   0.973944   0.982517   0.993099\n",
       "max     0.975848       0.987578   0.975851   0.982977   0.993331"
      ]
     },
     "execution_count": 35,
     "metadata": {},
     "output_type": "execute_result"
    }
   ],
   "source": [
    "resultados.describe()"
   ]
  },
  {
   "cell_type": "markdown",
   "id": "2687eb02",
   "metadata": {},
   "source": [
    "### Teste de normalidade nos resultados"
   ]
  },
  {
   "cell_type": "markdown",
   "id": "b380f1ac",
   "metadata": {},
   "source": [
    "Vamos verificar se os nossos resustados de cada algoritmo representa uma distribuição normal.\n",
    "\n",
    "Isso será importante para aplicar a ANOVA e o teste de Tukey para avaliar qual o melhor algoritmo."
   ]
  },
  {
   "cell_type": "code",
   "execution_count": 36,
   "id": "122064f7",
   "metadata": {},
   "outputs": [],
   "source": [
    "alpha = 0.05"
   ]
  },
  {
   "cell_type": "code",
   "execution_count": 37,
   "id": "87572efd",
   "metadata": {},
   "outputs": [],
   "source": [
    "from scipy.stats import shapiro"
   ]
  },
  {
   "cell_type": "code",
   "execution_count": 38,
   "id": "84aa24ca",
   "metadata": {},
   "outputs": [
    {
     "data": {
      "text/plain": [
       "(ShapiroResult(statistic=0.9725775122642517, pvalue=0.6118349432945251),\n",
       " ShapiroResult(statistic=0.9613456130027771, pvalue=0.3351516127586365),\n",
       " ShapiroResult(statistic=0.9691241979598999, pvalue=0.5154971480369568),\n",
       " ShapiroResult(statistic=0.9353036880493164, pvalue=0.06802060455083847),\n",
       " ShapiroResult(statistic=0.9011980295181274, pvalue=0.008985988795757294))"
      ]
     },
     "execution_count": 38,
     "metadata": {},
     "output_type": "execute_result"
    }
   ],
   "source": [
    "shapiro(resultados_arvore), shapiro(resultados_random_forest), shapiro(resultados_knn), shapiro(resultados_logistica), shapiro(resultados_svm)\n"
   ]
  },
  {
   "cell_type": "markdown",
   "id": "48de122d",
   "metadata": {},
   "source": [
    "### Teste de hipótese com ANOVA e Tukey"
   ]
  },
  {
   "cell_type": "markdown",
   "id": "1a726278",
   "metadata": {},
   "source": [
    "### Anova"
   ]
  },
  {
   "cell_type": "markdown",
   "id": "99d8f48f",
   "metadata": {},
   "source": [
    "A Análise de Variância ( ANOVA ) é uma fórmula estatística usada para comparar as variâncias entre as medianas (ou médias) de grupos diferentes. Diversos cenários usam ANOVA para determinar se há alguma diferença entre as medianas dos diferentes grupos.\n",
    "\n",
    "O resultado da ANOVA é a 'estatística F'. Esta razão mostra a diferença entre a variância dentro do grupo e a variância entre os grupos, o que acaba por produzir um valor que permite concluir que a hipótese nula é suportada ou rejeitada. Se houver uma diferença significativa entre os grupos, a hipótese nula não é suportada e o F-ratio será maior.\n",
    "\n",
    "* **Uma hipótese nula (H0)**: É quando não há diferença entre os grupos ou médias. Dependendo do resultado do teste ANOVA, a hipótese nula será aceita ou rejeitada.\n",
    "\n",
    "\n",
    "* **Uma hipótese alternativa (H1)**: Quando teoricamente pensamos que existe uma diferença entre grupos e médias."
   ]
  },
  {
   "cell_type": "code",
   "execution_count": 39,
   "id": "d68b8da9",
   "metadata": {},
   "outputs": [],
   "source": [
    "from scipy.stats import f_oneway"
   ]
  },
  {
   "cell_type": "code",
   "execution_count": 40,
   "id": "4562a16c",
   "metadata": {},
   "outputs": [
    {
     "data": {
      "text/plain": [
       "2.575716905811569e-111"
      ]
     },
     "execution_count": 40,
     "metadata": {},
     "output_type": "execute_result"
    }
   ],
   "source": [
    "_, p = f_oneway(resultados_arvore, resultados_random_forest, resultados_knn, resultados_logistica, resultados_svm)\n",
    "p "
   ]
  },
  {
   "cell_type": "code",
   "execution_count": 41,
   "id": "aad6e121",
   "metadata": {},
   "outputs": [
    {
     "name": "stdout",
     "output_type": "stream",
     "text": [
      "Hipótese nula rejeitada. Dados são diferentes\n"
     ]
    }
   ],
   "source": [
    "alpha = 0.05\n",
    "if p <= alpha:\n",
    "  print('Hipótese nula rejeitada. Dados são diferentes') #Ou seja, tem diferença entre os algoritmos \n",
    "else:\n",
    "  print('Hipótese alternativa rejeitada. Resultados são iguais') #Ou seja, não tem diferença entre qual algoritmo escolher"
   ]
  },
  {
   "cell_type": "code",
   "execution_count": 43,
   "id": "9f22b069",
   "metadata": {},
   "outputs": [],
   "source": [
    "resultados_algoritmos = {'accuracy': np.concatenate([resultados_arvore, resultados_random_forest, resultados_knn, resultados_logistica, resultados_svm, resultados_rede_neural]),\n",
    "                         'algoritmo': ['arvore','arvore','arvore','arvore','arvore','arvore','arvore','arvore','arvore','arvore','arvore','arvore','arvore','arvore','arvore','arvore','arvore','arvore','arvore','arvore','arvore','arvore','arvore','arvore','arvore','arvore','arvore','arvore','arvore','arvore', \n",
    "                          'random_forest','random_forest','random_forest','random_forest','random_forest','random_forest','random_forest','random_forest','random_forest','random_forest','random_forest','random_forest','random_forest','random_forest','random_forest','random_forest','random_forest','random_forest','random_forest','random_forest','random_forest','random_forest','random_forest','random_forest','random_forest','random_forest','random_forest','random_forest','random_forest','random_forest', \n",
    "                          'knn','knn','knn','knn','knn','knn','knn','knn','knn','knn','knn','knn','knn','knn','knn','knn','knn','knn','knn','knn','knn','knn','knn','knn','knn','knn','knn','knn','knn','knn', \n",
    "                          'logistica','logistica','logistica','logistica','logistica','logistica','logistica','logistica','logistica','logistica','logistica','logistica','logistica','logistica','logistica','logistica','logistica','logistica','logistica','logistica','logistica','logistica','logistica','logistica','logistica','logistica','logistica','logistica','logistica','logistica',\n",
    "                          'svm','svm','svm','svm','svm','svm','svm','svm','svm','svm','svm','svm','svm','svm','svm','svm','svm','svm','svm','svm','svm','svm','svm','svm','svm','svm','svm','svm','svm','svm']}"
   ]
  },
  {
   "cell_type": "code",
   "execution_count": 44,
   "id": "a4452d9c",
   "metadata": {},
   "outputs": [
    {
     "data": {
      "text/html": [
       "<div>\n",
       "<style scoped>\n",
       "    .dataframe tbody tr th:only-of-type {\n",
       "        vertical-align: middle;\n",
       "    }\n",
       "\n",
       "    .dataframe tbody tr th {\n",
       "        vertical-align: top;\n",
       "    }\n",
       "\n",
       "    .dataframe thead th {\n",
       "        text-align: right;\n",
       "    }\n",
       "</style>\n",
       "<table border=\"1\" class=\"dataframe\">\n",
       "  <thead>\n",
       "    <tr style=\"text-align: right;\">\n",
       "      <th></th>\n",
       "      <th>accuracy</th>\n",
       "      <th>algoritmo</th>\n",
       "    </tr>\n",
       "  </thead>\n",
       "  <tbody>\n",
       "    <tr>\n",
       "      <th>0</th>\n",
       "      <td>0.969867</td>\n",
       "      <td>arvore</td>\n",
       "    </tr>\n",
       "    <tr>\n",
       "      <th>1</th>\n",
       "      <td>0.970551</td>\n",
       "      <td>arvore</td>\n",
       "    </tr>\n",
       "    <tr>\n",
       "      <th>2</th>\n",
       "      <td>0.972854</td>\n",
       "      <td>arvore</td>\n",
       "    </tr>\n",
       "    <tr>\n",
       "      <th>3</th>\n",
       "      <td>0.969405</td>\n",
       "      <td>arvore</td>\n",
       "    </tr>\n",
       "    <tr>\n",
       "      <th>4</th>\n",
       "      <td>0.971018</td>\n",
       "      <td>arvore</td>\n",
       "    </tr>\n",
       "    <tr>\n",
       "      <th>...</th>\n",
       "      <td>...</td>\n",
       "      <td>...</td>\n",
       "    </tr>\n",
       "    <tr>\n",
       "      <th>145</th>\n",
       "      <td>0.993099</td>\n",
       "      <td>svm</td>\n",
       "    </tr>\n",
       "    <tr>\n",
       "      <th>146</th>\n",
       "      <td>0.991488</td>\n",
       "      <td>svm</td>\n",
       "    </tr>\n",
       "    <tr>\n",
       "      <th>147</th>\n",
       "      <td>0.993329</td>\n",
       "      <td>svm</td>\n",
       "    </tr>\n",
       "    <tr>\n",
       "      <th>148</th>\n",
       "      <td>0.993097</td>\n",
       "      <td>svm</td>\n",
       "    </tr>\n",
       "    <tr>\n",
       "      <th>149</th>\n",
       "      <td>0.993098</td>\n",
       "      <td>svm</td>\n",
       "    </tr>\n",
       "  </tbody>\n",
       "</table>\n",
       "<p>150 rows × 2 columns</p>\n",
       "</div>"
      ],
      "text/plain": [
       "     accuracy algoritmo\n",
       "0    0.969867    arvore\n",
       "1    0.970551    arvore\n",
       "2    0.972854    arvore\n",
       "3    0.969405    arvore\n",
       "4    0.971018    arvore\n",
       "..        ...       ...\n",
       "145  0.993099       svm\n",
       "146  0.991488       svm\n",
       "147  0.993329       svm\n",
       "148  0.993097       svm\n",
       "149  0.993098       svm\n",
       "\n",
       "[150 rows x 2 columns]"
      ]
     },
     "execution_count": 44,
     "metadata": {},
     "output_type": "execute_result"
    }
   ],
   "source": [
    "resultados_df = pd.DataFrame(resultados_algoritmos)\n",
    "resultados_df"
   ]
  },
  {
   "cell_type": "markdown",
   "id": "b07a10b3",
   "metadata": {},
   "source": [
    "### Teste de Tukey"
   ]
  },
  {
   "cell_type": "markdown",
   "id": "8de2218a",
   "metadata": {},
   "source": [
    "A ANOVA só pode dizer se há uma diferença significativa entre as medianas de pelo menos dois grupos, mas não pode explicar qual par difere em suas medianas. Se houver uma necessidade de dados granulares, a implantação de mais processos estatísticos de acompanhamento ajudará a descobrir quais grupos diferem em valor mediano. Normalmente, ANOVA é usada em combinação com outros métodos estatísticos.\n",
    "\n",
    "Nesse caso, o resultado evidencia que a distribuição de pelo menos um dos grupos se difere das demais, mas não indica entre quais grupos a diferença é significativa. Assim, se faz necessário utilizar testes de comparações múltiplas e hoje, abordaremos um deles: o Teste de Tukey.\n",
    "\n",
    "O Teste de Tukey consiste em comparar todos os possíveis pares de médias e se baseia na diferença mínima significativa (D.M.S.), considerando os percentis do grupo. No cálculo da D.M.S. utiliza-se também a distribuição da amplitude estudentizada, o quadrado médio dos resíduos da ANOVA e o tamanho amostral dos grupos.\n",
    "\n",
    "O teste pode ser interpretado com base no valor da diferença mínima significativa (D.M.S.), no intervalo de confiança e no valor-p."
   ]
  },
  {
   "cell_type": "code",
   "execution_count": 45,
   "id": "f48255c3",
   "metadata": {},
   "outputs": [],
   "source": [
    "#!pip install statsmodels\n",
    "from statsmodels.stats.multicomp import MultiComparison"
   ]
  },
  {
   "cell_type": "code",
   "execution_count": 46,
   "id": "2e6bc5c7",
   "metadata": {},
   "outputs": [],
   "source": [
    "compara_algoritmos = MultiComparison(resultados_df['accuracy'], resultados_df['algoritmo'])"
   ]
  },
  {
   "cell_type": "code",
   "execution_count": 47,
   "id": "9191d75e",
   "metadata": {},
   "outputs": [
    {
     "name": "stdout",
     "output_type": "stream",
     "text": [
      "      Multiple Comparison of Means - Tukey HSD, FWER=0.05      \n",
      "===============================================================\n",
      "    group1        group2    meandiff p-adj lower  upper  reject\n",
      "---------------------------------------------------------------\n",
      "       arvore           knn   0.0025   0.0 0.0015 0.0035   True\n",
      "       arvore     logistica   0.0113   0.0 0.0103 0.0123   True\n",
      "       arvore random_forest   0.0155   0.0 0.0145 0.0164   True\n",
      "       arvore           svm   0.0217   0.0 0.0207 0.0227   True\n",
      "          knn     logistica   0.0088   0.0 0.0078 0.0098   True\n",
      "          knn random_forest    0.013   0.0  0.012  0.014   True\n",
      "          knn           svm   0.0192   0.0 0.0182 0.0202   True\n",
      "    logistica random_forest   0.0042   0.0 0.0032 0.0052   True\n",
      "    logistica           svm   0.0104   0.0 0.0094 0.0114   True\n",
      "random_forest           svm   0.0063   0.0 0.0053 0.0073   True\n",
      "---------------------------------------------------------------\n"
     ]
    }
   ],
   "source": [
    "teste_estatistico = compara_algoritmos.tukeyhsd()\n",
    "print(teste_estatistico)"
   ]
  },
  {
   "cell_type": "code",
   "execution_count": 48,
   "id": "de8eb38e",
   "metadata": {},
   "outputs": [
    {
     "data": {
      "text/plain": [
       "Arvore           0.971037\n",
       "Random Forest    0.986489\n",
       "KNN              0.973522\n",
       "Logistica        0.982317\n",
       "SVM              0.992761\n",
       "dtype: float64"
      ]
     },
     "execution_count": 48,
     "metadata": {},
     "output_type": "execute_result"
    }
   ],
   "source": [
    "resultados.mean()"
   ]
  },
  {
   "cell_type": "code",
   "execution_count": 49,
   "id": "5cb9f2c6",
   "metadata": {},
   "outputs": [
    {
     "data": {
      "image/png": "[encoded data removed]",
      "text/plain": [
       "<Figure size 720x432 with 1 Axes>"
      ]
     },
     "metadata": {
      "needs_background": "light"
     },
     "output_type": "display_data"
    }
   ],
   "source": [
    "teste_estatistico.plot_simultaneous();"
   ]
  },
  {
   "cell_type": "markdown",
   "id": "e9cbaf2a",
   "metadata": {},
   "source": [
    "# Aplicando a "
   ]
  },
  {
   "cell_type": "code",
   "execution_count": null,
   "id": "74a298ad",
   "metadata": {},
   "outputs": [],
   "source": [
    "tfidf = TfidfVectorizer(stop_words=stop_words, token_pattern=r'(?u)\\b([a-zA-Z]{4,20})\\b')\n",
    "tfidf.fit(X_emails_teste)\n",
    "X_emails_teste = tfidf.transform(X_emails_teste)"
   ]
  }
 ],
 "metadata": {
  "kernelspec": {
   "display_name": "Python 3 (ipykernel)",
   "language": "python",
   "name": "python3"
  },
  "language_info": {
   "codemirror_mode": {
    "name": "ipython",
    "version": 3
   },
   "file_extension": ".py",
   "mimetype": "text/x-python",
   "name": "python",
   "nbconvert_exporter": "python",
   "pygments_lexer": "ipython3",
   "version": "3.10.4"
  }
 },
 "nbformat": 4,
 "nbformat_minor": 5
}
